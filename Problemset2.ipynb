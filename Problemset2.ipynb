{
 "cells": [
  {
   "cell_type": "markdown",
   "id": "d010fea2",
   "metadata": {},
   "source": [
    "<h1><font color='#004b87'>Question 1</font></h1>\n",
    "Consider the following Python module:\n",
    "a = 0\n",
    "def b():\n",
    "global a\n",
    "a = c(a)\n",
    "def c(a):\n",
    "return a + 2\n",
    "After importing the module into the interpreter, you execute:\n",
    ">>> b()\n",
    ">>> b()\n",
    ">>> b()\n",
    ">>> a\n",
    "?\n",
    "What value is displayed when the last expression (a) is evaluated? Explain your \n",
    "answer by indicating what happens in every executed statement"
   ]
  },
  {
   "cell_type": "code",
   "execution_count": 2,
   "id": "b9fe0ed2",
   "metadata": {},
   "outputs": [
    {
     "data": {
      "text/plain": [
       "6"
      ]
     },
     "execution_count": 2,
     "metadata": {},
     "output_type": "execute_result"
    }
   ],
   "source": [
    "a = 0\n",
    "def b():\n",
    "    global a\n",
    "    a = c(a)\n",
    "def c(a):\n",
    "    return a + 2\n",
    "b()\n",
    "b()\n",
    "b()\n",
    "a"
   ]
  },
  {
   "cell_type": "markdown",
   "id": "74f0712b",
   "metadata": {},
   "source": [
    "# Explanation:\n",
    "When b() is executed for the first time, Initially a = 0, further when c(a) is called, it returns a= 2, \n",
    "when b() is executed for the second time, Value of a = 2 now which will be passed to b(), now when c(a) is envoked, it returns a= 4,\n",
    "When b() is executed for the Third time, Value of a= 4, which will be passed to b(), when c(a) is invoked now, it returns a= 6\n",
    "when the last expression a is evaluated it gives value of a as 6. "
   ]
  },
  {
   "cell_type": "markdown",
   "id": "9202d72e",
   "metadata": {},
   "source": [
    "<h1><font color='#004b87'>Question 2</font></h1>\n",
    "Function fileLength(), given to you, takes the name of a file as input and returns \n",
    "the length of the file:\n",
    ">>> fileLength('midterm.py')\n",
    "284\n",
    ">>> fileLength('idterm.py')\n",
    "Traceback (most recent call last):\n",
    "File \"<pyshell#34>\", line 1, in <module>\n",
    " fileLength('idterm.py')\n",
    "File \"/Users/me/midterm.py\", line 3, in fileLength\n",
    " infile = open(filename)\n",
    "FileNotFoundError: [Errno 2] No such file or directory: \n",
    "'idterm.py'\n",
    "As shown above, if the file cannot be found by the interpreter or if it cannot be read \n",
    "as a text file, an exception will be raised. Modify function fileLength() so that a \n",
    "friendly message is printed instead:\n",
    ">>> fileLength('midterm.py')\n",
    "358\n",
    ">>> fileLength('idterm.py')\n",
    "File idterm.py not found."
   ]
  },
  {
   "cell_type": "code",
   "execution_count": 80,
   "id": "1ba48919",
   "metadata": {},
   "outputs": [
    {
     "data": {
      "text/plain": [
       "1331"
      ]
     },
     "execution_count": 80,
     "metadata": {},
     "output_type": "execute_result"
    }
   ],
   "source": [
    "def numLines(filename):\n",
    "    try:\n",
    "        'returns the number of lines in file filename'\n",
    "        infile = open(filename, 'r')\n",
    "        lineList = infile.readlines()\n",
    "        infile.close()\n",
    "        return len(lineList)\n",
    "    except IOError:\n",
    "        print(\"File \"+filename+\" not found.\")\n",
    "        return\n",
    "\n",
    "numLines('C:/Users/palla/OneDrive/Documents/Data Programming/midterm.py')"
   ]
  },
  {
   "cell_type": "markdown",
   "id": "d40e22eb",
   "metadata": {},
   "source": [
    "####  Display of friendly Error message of file not found when accessing wrong path."
   ]
  },
  {
   "cell_type": "code",
   "execution_count": 81,
   "id": "b5cbb1c4",
   "metadata": {},
   "outputs": [
    {
     "name": "stdout",
     "output_type": "stream",
     "text": [
      "File C:/Users/palla/OneDrive/Documents/Data Programming/idterm.py not found.\n"
     ]
    }
   ],
   "source": [
    "def numLines(filename):\n",
    "    try:\n",
    "        'returns the number of lines in file filename'\n",
    "        infile = open(filename, 'r')\n",
    "        lineList = infile.readlines()\n",
    "        infile.close()\n",
    "        return len(lineList)\n",
    "    except IOError:\n",
    "        print(\"File \"+filename+\" not found.\")\n",
    "        return\n",
    "\n",
    "numLines('C:/Users/palla/OneDrive/Documents/Data Programming/idterm.py')"
   ]
  },
  {
   "cell_type": "markdown",
   "id": "939a0169",
   "metadata": {},
   "source": [
    "<h1><font color='#004b87'>Question 3</font></h1>\n",
    "Write a class named Marsupial that can be used as shown below:\n",
    ">>> m = Marsupial()\n",
    ">>> m.put_in_pouch('doll')\n",
    ">>> m.put_in_pouch('firetruck')\n",
    ">>> m.put_in_pouch('kitten')\n",
    ">>> m.pouch_contents()\n",
    "['doll', 'firetruck', 'kitten']\n"
   ]
  },
  {
   "cell_type": "code",
   "execution_count": 79,
   "id": "2763b06d",
   "metadata": {},
   "outputs": [
    {
     "data": {
      "text/plain": [
       "['doll', 'firetruck', 'kitten']"
      ]
     },
     "execution_count": 79,
     "metadata": {},
     "output_type": "execute_result"
    }
   ],
   "source": [
    "class Marsupial:\n",
    "    contentList=[]\n",
    "    def put_in_pouch(self,content):\n",
    "        self.contentList.append(content)\n",
    "    def pouch_contents(self):\n",
    "        return(self.contentList)\n",
    "    \n",
    "m = Marsupial()\n",
    "m.put_in_pouch('doll')\n",
    "m.put_in_pouch('firetruck')\n",
    "m.put_in_pouch('kitten')\n",
    "m.pouch_contents()"
   ]
  },
  {
   "cell_type": "markdown",
   "id": "47b334b7",
   "metadata": {},
   "source": [
    "Could not figure out the second part. "
   ]
  },
  {
   "cell_type": "markdown",
   "id": "7657ed65",
   "metadata": {},
   "source": [
    "<h1><font color='#004b87'>Question 4</font></h1>\n",
    "Write function collatz() that takes a positive integer x as input and prints the \n",
    "Collatz sequence starting at x. A Collatz sequence is obtained by repeatedly applying \n",
    "this rule to the previous number x in the sequence:\n",
    "x = {\n",
    "𝑥/2 𝑖𝑓 𝑥 𝑖𝑠 𝑒𝑣𝑒𝑛\n",
    "3𝑥 + 1 𝑖𝑓 𝑥 𝑖𝑠 𝑜𝑑𝑑\n",
    "Your function should stop when the sequence gets to number 1. Your \n",
    "implementation must be recursive, without any loops"
   ]
  },
  {
   "cell_type": "code",
   "execution_count": 35,
   "id": "7b5d8a5a",
   "metadata": {},
   "outputs": [
    {
     "name": "stdout",
     "output_type": "stream",
     "text": [
      "5\n",
      "16\n",
      "8\n",
      "4\n",
      "2\n",
      "1\n",
      "1\n"
     ]
    }
   ],
   "source": [
    "def collatz(x):\n",
    "    if x == 1:\n",
    "        print(x)\n",
    "    elif x%2 == 0:\n",
    "        x = int(x/2)\n",
    "        print(x)\n",
    "        collatz(x)     \n",
    "    else:\n",
    "        x = int((3*x)+1)\n",
    "        print(x)\n",
    "        collatz(x)\n",
    "\n",
    "collatz(10)"
   ]
  },
  {
   "cell_type": "markdown",
   "id": "8b148812",
   "metadata": {},
   "source": [
    "<h1><font color='#004b87'>Question 5</font></h1>\n",
    "Write a recursive method binary() that takes a non-negative \n",
    "integer n and prints the binary representation of integer n.\n",
    ">>> binary(0)\n",
    "0\n",
    ">>> binary(1)\n",
    "1\n",
    ">>> binary(3)\n",
    "11\n",
    ">>> binary(9)\n",
    "1001"
   ]
  },
  {
   "cell_type": "code",
   "execution_count": 25,
   "id": "87403edc",
   "metadata": {},
   "outputs": [
    {
     "name": "stdout",
     "output_type": "stream",
     "text": [
      "enter number:9\n",
      "1001\n"
     ]
    }
   ],
   "source": [
    "def binary(n):\n",
    "    if n < 2:\n",
    "        return n\n",
    "    else:\n",
    "        return(n % 2 + 10 * binary(int(n//2)))\n",
    "n = int(input(\"enter number:\"))\n",
    "print(binary(n))"
   ]
  },
  {
   "cell_type": "markdown",
   "id": "a7c0a0f8",
   "metadata": {},
   "source": [
    "<h1><font color='#004b87'>Question 6</font></h1>\n",
    "Implement a class named HeadingParser that can be used to parse an HTML \n",
    "document, and retrieve and print all the headings in the document. You should \n",
    "implement your class as a subclass of HTMLParser, defined in Standard Library \n",
    "module html.parser. When fed a string containing HTML code, your class should \n",
    "print the headings, one per line and in the order in which they appear in the \n",
    "document. Each heading should be indented as follows: an h1 heading should have\n",
    "indentation 0, and h2 heading should have indentation 1, etc. Test your \n",
    "implementation using w3c.html.\n",
    ">>> infile = open('w3c.html')\n",
    ">>> content = infile.read()\n",
    ">>> infile.close()\n",
    ">>> hp = HeadingParser()\n",
    ">>> hp.feed(content)\n"
   ]
  },
  {
   "cell_type": "code",
   "execution_count": 86,
   "id": "2a7dd977",
   "metadata": {},
   "outputs": [
    {
     "name": "stdout",
     "output_type": "stream",
     "text": [
      "W3C Mission \t\n",
      " \tPrinciples \t\n",
      " \t"
     ]
    }
   ],
   "source": [
    "from html.parser import HTMLParser\n",
    "# create a subclass and override the handler methods\n",
    "class MyHTMLParser(HTMLParser):\n",
    "    def handle_starttag(self, tag, attrs):\n",
    "        self.indent = 0       #Indentation value is 0\n",
    "       # print (\"Found a start tag  :\", tag)\n",
    "        if tag in {'h1','h2','h3'}:\n",
    "            self.indent = 1\n",
    "            #print(self.get_starttag_text())\n",
    "    def handle_data(self, data):\n",
    "        if self.indent:\n",
    "            print(data,\"\\t\",end= \"\")\n",
    "        \n",
    "infile = open('C:/Users/palla/OneDrive/Documents/Data Programming/Week 6/Week 06 Notebook/Week 06 Notebook/w3c.html') \n",
    "content = infile.read() \n",
    "infile.close() \n",
    "parser = MyHTMLParser() \n",
    "parser.feed(content)"
   ]
  },
  {
   "cell_type": "markdown",
   "id": "109070ae",
   "metadata": {},
   "source": [
    "<h1><font color='#004b87'>Question 7</font></h1>\n",
    "Implement recursive function webdir() that takes as input: a URL (as a string) and \n",
    "non-negative integers depth and indent. Your function should visit every web \n",
    "page reachable from the starting URL web page in depth clicks or less, and print \n",
    "each web page's URL. As shown below, indentation, specified by indent, should \n",
    "be used to indicate the depth of a URL.\n",
    ">>> \n",
    "webdir('http://reed.cs.depaul.edu/lperkovic/csc242/test1.html'\n",
    ", 2, 0)\n",
    "http://reed.cs.depaul.edu/lperkovic/csc242/test1.html\n",
    " http://reed.cs.depaul.edu/lperkovic/csc242/test2.html\n",
    " http://reed.cs.depaul.edu/lperkovic/csc242/test4.html\n",
    " http://reed.cs.depaul.edu/lperkovic/csc242/test3.html\n",
    " http://reed.cs.depaul.edu/lperkovic/csc242/test4.html\n"
   ]
  },
  {
   "cell_type": "markdown",
   "id": "d7a2e70f",
   "metadata": {},
   "source": [
    "# Reference :\n",
    "Below Part of code for Solution 7 is from book Introduction-to-Computing-Using-Python-2nd-Edition.pdf \n",
    "\n",
    "Could not figure out. "
   ]
  },
  {
   "cell_type": "code",
   "execution_count": 29,
   "id": "1fc6a591",
   "metadata": {},
   "outputs": [
    {
     "name": "stdout",
     "output_type": "stream",
     "text": [
      "http://www.w3.org/\n",
      "http://www.w3.org/standards/\n",
      "http://www.w3.org/participate/\n",
      "http://www.w3.org/Consortium/membership\n",
      "http://www.w3.org/Consortium/\n",
      "http://www.w3.org/Consortium/\n",
      "http://www.w3.org/Consortium/facts.html\n",
      "http://www.w3.org/Consortium/presskit.html\n",
      "http://www.w3.org/Consortium/sponsor/\n",
      "http://www.w3.org/Consortium/Recruitment/\n",
      "http://www.w3.org/Consortium/contact.html\n",
      "http://www.w3.org/Help/\n",
      "http://www.w3.org/Consortium/mission.html#w3c_content_body\n",
      "http://www.w3.org/\n",
      "http://www.w3.org/Consortium/\n",
      "http://www.w3.org/Consortium/mission.html#openstand\n",
      "http://www.w3.org/Consortium/mission.html#principles\n",
      "http://www.w3.org/Consortium/mission.html#vision\n",
      "http://open-stand.org/principles/\n",
      "http://open-stand.org/\n",
      "http://www.w3.org/WAI/\n",
      "http://www.w3.org/International/\n",
      "http://www.w3.org/standards/webofdevices/\n",
      "http://www.w3.org/Mobile/\n",
      "http://www.w3.org/standards/agents/Overview.html\n",
      "http://www.w3.org/standards/webdesign/\n",
      "http://www.w3.org/standards/webarch/\n",
      "http://www.w3.org/standards/xml/\n",
      "http://www.w3.org/standards/semanticweb/\n",
      "http://www.w3.org/standards/webofservices/\n",
      "http://www.w3.org/standards/semanticweb/\n",
      "http://www.w3.org/standards/xml/security\n",
      "http://www.w3.org/standards/webofservices/security\n",
      "http://www.w3.org/standards/webdesign/privacy\n",
      "http://www.w3.org/\n",
      "http://www.w3.org/standards/\n",
      "http://www.w3.org/participate/\n",
      "http://www.w3.org/Consortium/membership\n",
      "http://www.w3.org/Consortium/\n",
      "http://www.w3.org/Consortium/contact\n",
      "http://www.w3.org/Help/\n",
      "http://www.w3.org/Consortium/sup\n",
      "http://www.w3.org/Consortium/siteindex\n",
      "http://lists.w3.org/Archives/Public/site-comments/\n",
      "http://twitter.com/W3C\n",
      "http://www.csail.mit.edu/\n",
      "http://www.ercim.org/\n",
      "http://www.keio.ac.jp/\n",
      "http://ev.buaa.edu.cn/\n",
      "http://www.w3.org/Consortium/Legal/ipr-notice\n"
     ]
    }
   ],
   "source": [
    "from urllib.request import urlopen\n",
    "from urllib.parse import urljoin\n",
    "from html.parser import HTMLParser\n",
    "class Collector(HTMLParser):\n",
    "    'collects hyperlink URLs into a list'\n",
    "\n",
    "    def __init__(self, url):\n",
    "        'initializes parser, the url, and a list'\n",
    "        HTMLParser.__init__(self)\n",
    "        self.url = url\n",
    "        self.links = []\n",
    "        self.text= \"\"\n",
    "\n",
    "    \n",
    "    def handle_starttag(self, tag, attrs):\n",
    "        'collects hyperlink URLs in their absolute format'\n",
    "        if tag == 'a':\n",
    "            for attr in attrs:\n",
    "                if attr[0] == 'href':\n",
    "                    # construct absolute URL\n",
    "                    absolute = urljoin(self.url, attr[1])\n",
    "                    if absolute[:4] == 'http': # collect HTTP URLs\n",
    "                        self.links.append(absolute)\n",
    "                        \n",
    "    def getLinks(self):\n",
    "        'returns hyperlinks URLs in their absolute format'\n",
    "        return self.links\n",
    "    \n",
    "    def handle_data(self, data):\n",
    "        self.text += data\n",
    "       # print(self.text)\n",
    "    def getData(self):\n",
    "        return self.text\n",
    "    \n",
    "url = 'http://www.w3.org/Consortium/mission.html'\n",
    "#url = 'http://reed.cs.depaul.edu/lperkovic/csc242/test1.html'\n",
    "resource = urlopen(url)\n",
    "content = resource.read().decode()\n",
    "collector = Collector(url)\n",
    "collector.feed(content)\n",
    "for link in collector.getLinks():\n",
    "    print(link)"
   ]
  },
  {
   "cell_type": "markdown",
   "id": "f0ee189e",
   "metadata": {},
   "source": [
    "<h1><font color='#004b87'>Question 8</font></h1>\n",
    "Write SQL queries on the below database table that return: \n",
    "a) All the temperature data.\n",
    "b) All the cities, but without repetition.\n",
    "c) All the records for India.\n",
    "d) All the Fall records.\n",
    "e) The city, country, and season for which the average rainfall is between 200 \n",
    "and 400 millimeters.\n",
    "f) The city and country for which the average Fall temperature is above 20 \n",
    "degrees, in increasing temperature order.\n",
    "g) The total annual rainfall for Cairo.\n",
    "h) The total rainfall for each season"
   ]
  },
  {
   "cell_type": "code",
   "execution_count": 47,
   "id": "fa693dfe",
   "metadata": {},
   "outputs": [],
   "source": [
    "import sqlite3\n",
    "con = sqlite3.connect('rainfalldataset.db')\n",
    "cur = con.cursor()\n",
    "cur.execute(\"CREATE TABLE annualrain (City, Country, Season, Temperature, Rainfall)\")\n",
    "cur.execute(\"INSERT INTO annualrain VALUES('Mumbai','India','Winter',24.8,5.9)\")\n",
    "cur.execute(\"INSERT INTO annualrain VALUES('Mumbai','India','Spring',28.4,16.2)\")\n",
    "cur.execute(\"INSERT INTO annualrain VALUES('Mumbai','India','Summer',27.9,1549.4)\")\n",
    "cur.execute(\"INSERT INTO annualrain VALUES('Mumbai','India','Fall',27.6,346.0)\")\n",
    "cur.execute(\"INSERT INTO annualrain VALUES('London','United Kingdom','Winter',4.2,207.7)\")\n",
    "cur.execute(\"INSERT INTO annualrain VALUES('London','United Kingdom','Spring',8.3,169.6)\")\n",
    "cur.execute(\"INSERT INTO annualrain VALUES('London','United Kingdom','Summer',15.7,157.0)\")\n",
    "cur.execute(\"INSERT INTO annualrain VALUES('London','United Kingdom','Fall',10.4,218.5)\")\n",
    "cur.execute(\"INSERT INTO annualrain VALUES('Cairo','Egypt','Winter',13.6,16.5)\")\n",
    "cur.execute(\"INSERT INTO annualrain VALUES('Cairo','Egypt','Spring',20.7,6.5)\")\n",
    "cur.execute(\"INSERT INTO annualrain VALUES('Cairo','Egypt','Summer',27.7,0.1)\")\n",
    "cur.execute(\"INSERT INTO annualrain VALUES('Cairo','Egypt','Fall',22.2,4.5)\")\n",
    "con.commit()\n",
    "con.close()"
   ]
  },
  {
   "cell_type": "markdown",
   "id": "0102f2f8",
   "metadata": {},
   "source": [
    "a) All the temperature data"
   ]
  },
  {
   "cell_type": "code",
   "execution_count": 49,
   "id": "0ef79bd3",
   "metadata": {},
   "outputs": [
    {
     "data": {
      "text/plain": [
       "[(24.8,),\n",
       " (28.4,),\n",
       " (27.9,),\n",
       " (27.6,),\n",
       " (4.2,),\n",
       " (8.3,),\n",
       " (15.7,),\n",
       " (10.4,),\n",
       " (13.6,),\n",
       " (20.7,),\n",
       " (27.7,),\n",
       " (22.2,)]"
      ]
     },
     "execution_count": 49,
     "metadata": {},
     "output_type": "execute_result"
    }
   ],
   "source": [
    "con = sqlite3.connect('rainfalldataset.db')\n",
    "cur = con.cursor()\n",
    "cur.execute('SELECT Temperature from annualrain')\n",
    "cur.fetchall()"
   ]
  },
  {
   "cell_type": "code",
   "execution_count": 50,
   "id": "1e8f997e",
   "metadata": {},
   "outputs": [
    {
     "data": {
      "text/plain": [
       "[('Mumbai',), ('London',), ('Cairo',)]"
      ]
     },
     "execution_count": 50,
     "metadata": {},
     "output_type": "execute_result"
    }
   ],
   "source": [
    "con = sqlite3.connect('rainfalldataset.db')\n",
    "cur = con.cursor()\n",
    "cur.execute('SELECT distinct(city) from annualrain')\n",
    "cur.fetchall()"
   ]
  },
  {
   "cell_type": "code",
   "execution_count": 51,
   "id": "743660dd",
   "metadata": {},
   "outputs": [
    {
     "data": {
      "text/plain": [
       "[('Mumbai', 'India', 'Winter', 24.8, 5.9),\n",
       " ('Mumbai', 'India', 'Spring', 28.4, 16.2),\n",
       " ('Mumbai', 'India', 'Summer', 27.9, 1549.4),\n",
       " ('Mumbai', 'India', 'Fall', 27.6, 346.0)]"
      ]
     },
     "execution_count": 51,
     "metadata": {},
     "output_type": "execute_result"
    }
   ],
   "source": [
    "con = sqlite3.connect('rainfalldataset.db')\n",
    "cur = con.cursor()\n",
    "cur.execute('SELECT * from annualrain where country=\"India\"')\n",
    "cur.fetchall()"
   ]
  },
  {
   "cell_type": "code",
   "execution_count": 52,
   "id": "96ef18f7",
   "metadata": {},
   "outputs": [
    {
     "data": {
      "text/plain": [
       "[('Mumbai', 'India', 'Fall', 27.6, 346.0),\n",
       " ('London', 'United Kingdom', 'Fall', 10.4, 218.5),\n",
       " ('Cairo', 'Egypt', 'Fall', 22.2, 4.5)]"
      ]
     },
     "execution_count": 52,
     "metadata": {},
     "output_type": "execute_result"
    }
   ],
   "source": [
    "con = sqlite3.connect('rainfalldataset.db')\n",
    "cur = con.cursor()\n",
    "cur.execute('SELECT * from annualrain where season=\"Fall\"')\n",
    "cur.fetchall()"
   ]
  },
  {
   "cell_type": "code",
   "execution_count": 53,
   "id": "191afac9",
   "metadata": {},
   "outputs": [
    {
     "data": {
      "text/plain": [
       "[('Mumbai', 'India', 'Fall'),\n",
       " ('London', 'United Kingdom', 'Winter'),\n",
       " ('London', 'United Kingdom', 'Fall')]"
      ]
     },
     "execution_count": 53,
     "metadata": {},
     "output_type": "execute_result"
    }
   ],
   "source": [
    "con = sqlite3.connect('rainfalldataset.db')\n",
    "cur = con.cursor()\n",
    "cur.execute('SELECT City , Country, Season from annualrain where rainfall between 200 and 400')\n",
    "cur.fetchall()"
   ]
  },
  {
   "cell_type": "code",
   "execution_count": 54,
   "id": "565caed8",
   "metadata": {},
   "outputs": [
    {
     "data": {
      "text/plain": [
       "[('Cairo', 'Egypt'), ('Mumbai', 'India')]"
      ]
     },
     "execution_count": 54,
     "metadata": {},
     "output_type": "execute_result"
    }
   ],
   "source": [
    "con = sqlite3.connect('rainfalldataset.db')\n",
    "cur = con.cursor()\n",
    "cur.execute('SELECT City , Country from annualrain where Season=\"Fall\" and temperature>20 order by temperature asc')\n",
    "cur.fetchall()"
   ]
  },
  {
   "cell_type": "code",
   "execution_count": 55,
   "id": "f00602cf",
   "metadata": {},
   "outputs": [
    {
     "data": {
      "text/plain": [
       "[(27.6,)]"
      ]
     },
     "execution_count": 55,
     "metadata": {},
     "output_type": "execute_result"
    }
   ],
   "source": [
    "con = sqlite3.connect('rainfalldataset.db')\n",
    "cur = con.cursor()\n",
    "cur.execute('SELECT SUM(Rainfall) from annualrain where City=\"Cairo\"')\n",
    "cur.fetchall()"
   ]
  },
  {
   "cell_type": "code",
   "execution_count": 57,
   "id": "0878ecdf",
   "metadata": {},
   "outputs": [
    {
     "data": {
      "text/plain": [
       "[('Fall', 569.0),\n",
       " ('Spring', 192.29999999999998),\n",
       " ('Summer', 1706.5),\n",
       " ('Winter', 230.1)]"
      ]
     },
     "execution_count": 57,
     "metadata": {},
     "output_type": "execute_result"
    }
   ],
   "source": [
    "con = sqlite3.connect('rainfalldataset.db')\n",
    "cur = con.cursor()\n",
    "cur.execute('SELECT Season, SUM(Rainfall) from annualrain Group by season')\n",
    "cur.fetchall()"
   ]
  },
  {
   "cell_type": "markdown",
   "id": "323a7fb6",
   "metadata": {},
   "source": [
    "<h1><font color='#004b87'>Question 9</font></h1>\n",
    ". Suppose list words is defined as follows:\n",
    ">>> words = ['The', 'quick', 'brown', 'fox', 'jumps', 'over', \n",
    "'the', 'lazy', 'dog']\n",
    "Write list comprehension expressions that use list words and generate the following \n",
    "lists:\n",
    "a) ['THE', 'QUICK', 'BROWN', 'FOX', 'JUMPS', 'OVER', 'THE', \n",
    "'LAZY', 'DOG']\n",
    "b) ['the', 'quick', 'brown', 'fox', 'jumps', 'over', 'the', \n",
    "'lazy', 'dog']\n",
    "c) [3, 5, 5, 3, 5, 4, 3, 4, 3] (the list of lengths of words in list \n",
    "words).\n",
    "d) [['THE', 'the', 3], ['QUICK', 'quick', 5], ['BROWN', \n",
    "'brown', 5], ['FOX', 'fox', 3], ['JUMPS', 'jumps', 5], \n",
    "['OVER', 'over', 4], ['THE', 'the', 3], ['LAZY', 'lazy', \n",
    "4], ['DOG', 'dog', 3]] (the list containing a list for every word of list \n",
    "words, where each list contains the word in uppercase and lowercase and the \n",
    "length of the word.)\n",
    "e) ['The', 'quick', 'brown', 'fox', 'jumps', 'over', 'the', \n",
    "'lazy', 'dog'] (the list of words in list words containing 4 or more \n",
    "characters."
   ]
  },
  {
   "cell_type": "code",
   "execution_count": 96,
   "id": "e4385310",
   "metadata": {},
   "outputs": [
    {
     "name": "stdout",
     "output_type": "stream",
     "text": [
      "['THE', 'QUICK', 'BROWN', 'FOX', 'JUMPS', 'OVER', 'THE', 'LAZY', 'DOG']\n"
     ]
    }
   ],
   "source": [
    "words = ['The', 'quick', 'brown', 'fox', 'jumps', 'over','the', 'lazy', 'dog']\n",
    "string_list = [each_word.upper() for each_word in words]\n",
    "print(string_list)"
   ]
  },
  {
   "cell_type": "code",
   "execution_count": 97,
   "id": "eee40985",
   "metadata": {},
   "outputs": [
    {
     "name": "stdout",
     "output_type": "stream",
     "text": [
      "['the', 'quick', 'brown', 'fox', 'jumps', 'over', 'the', 'lazy', 'dog']\n"
     ]
    }
   ],
   "source": [
    "string_list2 = [each_word.lower() for each_word in words]\n",
    "print(string_list2)"
   ]
  },
  {
   "cell_type": "code",
   "execution_count": 98,
   "id": "f29a6ad6",
   "metadata": {
    "scrolled": true
   },
   "outputs": [
    {
     "name": "stdout",
     "output_type": "stream",
     "text": [
      "[3, 5, 5, 3, 5, 4, 3, 4, 3]\n"
     ]
    }
   ],
   "source": [
    "string_list3 = [len(each_word) for each_word in words]\n",
    "print(string_list3)"
   ]
  },
  {
   "cell_type": "code",
   "execution_count": 99,
   "id": "6e31816d",
   "metadata": {},
   "outputs": [
    {
     "name": "stdout",
     "output_type": "stream",
     "text": [
      "[('THE', 'the', 3), ('QUICK', 'quick', 5), ('BROWN', 'brown', 5), ('FOX', 'fox', 3), ('JUMPS', 'jumps', 5), ('OVER', 'over', 4), ('THE', 'the', 3), ('LAZY', 'lazy', 4), ('DOG', 'dog', 3)]\n"
     ]
    }
   ],
   "source": [
    "string_list4= [(each_word.upper(), each_word.lower(), len(each_word)) for each_word in words]\n",
    "print(string_list4)"
   ]
  },
  {
   "cell_type": "code",
   "execution_count": 100,
   "id": "3f292d94",
   "metadata": {},
   "outputs": [
    {
     "name": "stdout",
     "output_type": "stream",
     "text": [
      "['quick', 'brown', 'jumps', 'over', 'lazy']\n"
     ]
    }
   ],
   "source": [
    "string_list5 = [each_word for each_word in words if len(each_word) >= 4]\n",
    "print(string_list5)"
   ]
  }
 ],
 "metadata": {
  "kernelspec": {
   "display_name": "Python 3",
   "language": "python",
   "name": "python3"
  },
  "language_info": {
   "codemirror_mode": {
    "name": "ipython",
    "version": 3
   },
   "file_extension": ".py",
   "mimetype": "text/x-python",
   "name": "python",
   "nbconvert_exporter": "python",
   "pygments_lexer": "ipython3",
   "version": "3.8.8"
  }
 },
 "nbformat": 4,
 "nbformat_minor": 5
}
